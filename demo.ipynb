{
 "cells": [
  {
   "cell_type": "markdown",
   "id": "eb798341",
   "metadata": {},
   "source": [
    "# Подготовка окружения"
   ]
  },
  {
   "cell_type": "code",
   "execution_count": null,
   "id": "de5560dc",
   "metadata": {},
   "outputs": [],
   "source": [
    "!git clone https://github.com/markunya/dla_hw1_asr.git\n",
    "%cd dla_hw1_asr\n",
    "!pip install -r requirements.txt"
   ]
  },
  {
   "cell_type": "markdown",
   "id": "9bb65aa5",
   "metadata": {},
   "source": [
    "# Загрузка весов"
   ]
  },
  {
   "cell_type": "code",
   "execution_count": null,
   "id": "33113e34",
   "metadata": {},
   "outputs": [],
   "source": [
    "!curl -Lo \"model_best.pth\" \"$(curl -sG --data-urlencode \"public_key=https://yadi.sk/d/dT-0ta5WHuKO_Q\" \"https://cloud-api.yandex.net/v1/disk/public/resources/download\" | jq -r .href)\""
   ]
  },
  {
   "cell_type": "markdown",
   "id": "7dc8d093",
   "metadata": {},
   "source": [
    "# Загрузка пользовательского датасета"
   ]
  },
  {
   "cell_type": "code",
   "execution_count": null,
   "id": "08bccfe6",
   "metadata": {},
   "outputs": [],
   "source": [
    "import os\n",
    "\n",
    "dataset_link = input(\"Введите ссылку на ваш датасет (Google Drive / public link): \")\n",
    "\n",
    "!gdown --folder \"$dataset_link\" -O data/\n",
    "\n",
    "downloaded_dirs = [d for d in os.listdir(\"data\") if os.path.isdir(os.path.join(\"data\", d))]\n",
    "downloaded_dirs.sort(key=lambda x: os.path.getmtime(os.path.join(\"data\", x)), reverse=True)\n",
    "dataset_dir = os.path.join(\"data\", downloaded_dirs[0]) if downloaded_dirs else None\n",
    "\n",
    "print(f\"Найден загруженный датасет: {dataset_dir}\")\n"
   ]
  },
  {
   "cell_type": "markdown",
   "id": "7eb405d1",
   "metadata": {},
   "source": [
    "# Запуск инференса"
   ]
  },
  {
   "cell_type": "code",
   "execution_count": null,
   "id": "177eae8d",
   "metadata": {},
   "outputs": [],
   "source": [
    "!python inference.py \\\n",
    "    inferencer.from_pretrained=model_best.pth \\\n",
    "    datasets=custom \\\n",
    "    datasets.custom.audio_dir=\"$dataset_dir\"/audio \\\n",
    "    datasets.custom.transcription_dir=\"$dataset_dir\"/transcriptions \\\n",
    "    dataloader.batch_size=1"
   ]
  }
 ],
 "metadata": {
  "kernelspec": {
   "display_name": "dla_hw1",
   "language": "python",
   "name": "python3"
  },
  "language_info": {
   "codemirror_mode": {
    "name": "ipython",
    "version": 3
   },
   "file_extension": ".py",
   "mimetype": "text/x-python",
   "name": "python",
   "nbconvert_exporter": "python",
   "pygments_lexer": "ipython3",
   "version": "3.12.11"
  }
 },
 "nbformat": 4,
 "nbformat_minor": 5
}
