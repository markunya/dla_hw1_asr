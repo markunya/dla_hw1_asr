{
 "cells": [
  {
   "cell_type": "markdown",
   "id": "eb798341",
   "metadata": {},
   "source": [
    "# Подготовка окружения"
   ]
  },
  {
   "cell_type": "code",
   "execution_count": null,
   "id": "de5560dc",
   "metadata": {},
   "outputs": [],
   "source": [
    "!git clone https://github.com/your_username/dla_asr_hw1.git\n",
    "%cd dla_asr_hw1\n",
    "!pip install -r requirements.txt"
   ]
  },
  {
   "cell_type": "markdown",
   "id": "9bb65aa5",
   "metadata": {},
   "source": [
    "# Загрузка весов"
   ]
  },
  {
   "cell_type": "code",
   "execution_count": null,
   "id": "33113e34",
   "metadata": {},
   "outputs": [
    {
     "name": "stdout",
     "output_type": "stream",
     "text": [
      "  % Total    % Received % Xferd  Average Speed   Time    Time     Time  Current\n",
      "                                 Dload  Upload   Total   Spent    Left  Speed\n",
      "  0     0    0     0    0     0      0      0 --:--:-- --:--:-- --:--:--     0:--:-- --:--:--     0\n",
      "100  231M  100  231M    0     0   9.9M      0  0:00:23  0:00:23 --:--:-- 12.0M\n"
     ]
    }
   ],
   "source": [
    "!curl -Lo \"saved/model_best.pth\" \"$(curl -sG --data-urlencode \"public_key=https://yadi.sk/d/dT-0ta5WHuKO_Q\" \"https://cloud-api.yandex.net/v1/disk/public/resources/download\" | jq -r .href)\""
   ]
  },
  {
   "cell_type": "markdown",
   "id": "7dc8d093",
   "metadata": {},
   "source": [
    "# Загрузка пользовательского датасета"
   ]
  },
  {
   "cell_type": "code",
   "execution_count": null,
   "id": "08bccfe6",
   "metadata": {},
   "outputs": [],
   "source": [
    "import os\n",
    "\n",
    "dataset_link = input(\"Введите ссылку на ваш датасет (Google Drive / public link): \")\n",
    "\n",
    "\n",
    "!gdown --folder \"$dataset_link\" -O data/\n",
    "\n",
    "# Находим самую новую папку, созданную в data/\n",
    "downloaded_dirs = [d for d in os.listdir(\"data\") if os.path.isdir(os.path.join(\"data\", d))]\n",
    "downloaded_dirs.sort(key=lambda x: os.path.getmtime(os.path.join(\"data\", x)), reverse=True)\n",
    "dataset_dir = os.path.join(\"data\", downloaded_dirs[0]) if downloaded_dirs else None\n",
    "\n",
    "print(f\"📂 Найден загруженный датасет: {dataset_dir}\")\n"
   ]
  },
  {
   "cell_type": "markdown",
   "id": "7eb405d1",
   "metadata": {},
   "source": [
    "# Запуск инференса"
   ]
  },
  {
   "cell_type": "code",
   "execution_count": 10,
   "id": "177eae8d",
   "metadata": {},
   "outputs": [
    {
     "name": "stdout",
     "output_type": "stream",
     "text": [
      "ConformerCTC(\n",
      "  (encoder): ConformerEncoder(\n",
      "    (sub): Conv2dSubsampling4(\n",
      "      (conv): Sequential(\n",
      "        (0): Conv2d(1, 256, kernel_size=(3, 3), stride=(2, 2), padding=(1, 1))\n",
      "        (1): ReLU(inplace=True)\n",
      "        (2): Conv2d(256, 256, kernel_size=(3, 3), stride=(2, 2), padding=(1, 1))\n",
      "        (3): ReLU(inplace=True)\n",
      "      )\n",
      "      (out): Linear(in_features=5120, out_features=256, bias=True)\n",
      "    )\n",
      "    (layers): ModuleList(\n",
      "      (0-11): 12 x ConformerBlock(\n",
      "        (ff1): FeedForwardModule(\n",
      "          (net): Sequential(\n",
      "            (0): LayerNorm((256,), eps=1e-05, elementwise_affine=True)\n",
      "            (1): Linear(in_features=256, out_features=1024, bias=True)\n",
      "            (2): Swish()\n",
      "            (3): Dropout(p=0.1, inplace=False)\n",
      "            (4): Linear(in_features=1024, out_features=256, bias=True)\n",
      "            (5): Dropout(p=0.1, inplace=False)\n",
      "          )\n",
      "        )\n",
      "        (mhsa): MHSA(\n",
      "          (ln): LayerNorm((256,), eps=1e-05, elementwise_affine=True)\n",
      "          (attn): MultiheadAttention(\n",
      "            (out_proj): NonDynamicallyQuantizableLinear(in_features=256, out_features=256, bias=True)\n",
      "          )\n",
      "        )\n",
      "        (conv): ConvolutionModule(\n",
      "          (ln): LayerNorm((256,), eps=1e-05, elementwise_affine=True)\n",
      "          (pointwise1): Conv1d(256, 512, kernel_size=(1,), stride=(1,))\n",
      "          (glu): GLU(dim=1)\n",
      "          (depthwise): Conv1d(256, 256, kernel_size=(31,), stride=(1,), padding=(15,), groups=256)\n",
      "          (bn): BatchNorm1d(256, eps=1e-05, momentum=0.1, affine=True, track_running_stats=True)\n",
      "          (swish): Swish()\n",
      "          (pointwise2): Conv1d(256, 256, kernel_size=(1,), stride=(1,))\n",
      "          (dropout): Dropout(p=0.1, inplace=False)\n",
      "        )\n",
      "        (ff2): FeedForwardModule(\n",
      "          (net): Sequential(\n",
      "            (0): LayerNorm((256,), eps=1e-05, elementwise_affine=True)\n",
      "            (1): Linear(in_features=256, out_features=1024, bias=True)\n",
      "            (2): Swish()\n",
      "            (3): Dropout(p=0.1, inplace=False)\n",
      "            (4): Linear(in_features=1024, out_features=256, bias=True)\n",
      "            (5): Dropout(p=0.1, inplace=False)\n",
      "          )\n",
      "        )\n",
      "        (dropout): Dropout(p=0.1, inplace=False)\n",
      "        (final_ln): LayerNorm((256,), eps=1e-05, elementwise_affine=True)\n",
      "      )\n",
      "    )\n",
      "    (pos): SinusoidalPositionalEncoding()\n",
      "  )\n",
      "  (ctc): CTCProjection(\n",
      "    (lin): Linear(in_features=256, out_features=28, bias=True)\n",
      "  )\n",
      ")\n",
      "custom: 100%|█████████████████████████████████████| 1/1 [00:03<00:00,  3.56s/it]\n",
      "    custom_CER     : 0.023923444976076555\n",
      "    custom_WER     : 0.1388888888888889\n"
     ]
    }
   ],
   "source": [
    "!python inference.py \\\n",
    "    inferencer.from_pretrained=saved/model_best.pth \\\n",
    "    datasets=custom \\\n",
    "    datasets.custom.audio_dir=data/custom/audio \\\n",
    "    datasets.custom.transcription_dir=data/custom/transcriptions \\\n",
    "    dataloader.batch_size=1"
   ]
  },
  {
   "cell_type": "markdown",
   "id": "130ffdae",
   "metadata": {},
   "source": [
    "# Табличка с результатами"
   ]
  },
  {
   "cell_type": "code",
   "execution_count": 11,
   "id": "a4956e84",
   "metadata": {},
   "outputs": [
    {
     "data": {
      "text/html": [
       "<div>\n",
       "<style scoped>\n",
       "    .dataframe tbody tr th:only-of-type {\n",
       "        vertical-align: middle;\n",
       "    }\n",
       "\n",
       "    .dataframe tbody tr th {\n",
       "        vertical-align: top;\n",
       "    }\n",
       "\n",
       "    .dataframe thead th {\n",
       "        text-align: right;\n",
       "    }\n",
       "</style>\n",
       "<table border=\"1\" class=\"dataframe\">\n",
       "  <thead>\n",
       "    <tr style=\"text-align: right;\">\n",
       "      <th></th>\n",
       "      <th>file</th>\n",
       "      <th>target</th>\n",
       "      <th>prediction</th>\n",
       "      <th>wer</th>\n",
       "      <th>cer</th>\n",
       "    </tr>\n",
       "  </thead>\n",
       "  <tbody>\n",
       "    <tr>\n",
       "      <th>0</th>\n",
       "      <td>26-496-0012.flac</td>\n",
       "      <td>and hardly anything of reformation though they...</td>\n",
       "      <td>and hardly anything of reformation though they...</td>\n",
       "      <td>13.8889</td>\n",
       "      <td>2.3923</td>\n",
       "    </tr>\n",
       "  </tbody>\n",
       "</table>\n",
       "</div>"
      ],
      "text/plain": [
       "               file                                             target  \\\n",
       "0  26-496-0012.flac  and hardly anything of reformation though they...   \n",
       "\n",
       "                                          prediction      wer     cer  \n",
       "0  and hardly anything of reformation though they...  13.8889  2.3923  "
      ]
     },
     "execution_count": 11,
     "metadata": {},
     "output_type": "execute_result"
    }
   ],
   "source": [
    "import pandas as pd\n",
    "pd.read_csv('inference_saved/custom/predictions.csv').head(10)"
   ]
  }
 ],
 "metadata": {
  "kernelspec": {
   "display_name": "dla_hw1",
   "language": "python",
   "name": "python3"
  },
  "language_info": {
   "codemirror_mode": {
    "name": "ipython",
    "version": 3
   },
   "file_extension": ".py",
   "mimetype": "text/x-python",
   "name": "python",
   "nbconvert_exporter": "python",
   "pygments_lexer": "ipython3",
   "version": "3.12.11"
  }
 },
 "nbformat": 4,
 "nbformat_minor": 5
}
